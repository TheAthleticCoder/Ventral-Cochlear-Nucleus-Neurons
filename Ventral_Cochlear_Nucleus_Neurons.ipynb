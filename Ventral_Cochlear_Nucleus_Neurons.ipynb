{
  "nbformat": 4,
  "nbformat_minor": 0,
  "metadata": {
    "colab": {
      "provenance": [],
      "collapsed_sections": []
    },
    "kernelspec": {
      "name": "python3",
      "display_name": "Python 3"
    },
    "language_info": {
      "name": "python"
    }
  },
  "cells": [
    {
      "cell_type": "code",
      "source": [
        "#Installing Required Dependencies\n",
        "!pip install brian2"
      ],
      "metadata": {
        "colab": {
          "base_uri": "https://localhost:8080/"
        },
        "id": "6qbTfIr9anVX",
        "outputId": "8e827872-cc1c-4db3-bac2-36a090117be9"
      },
      "execution_count": 1,
      "outputs": [
        {
          "output_type": "stream",
          "name": "stdout",
          "text": [
            "Looking in indexes: https://pypi.org/simple, https://us-python.pkg.dev/colab-wheels/public/simple/\n",
            "Requirement already satisfied: brian2 in /usr/local/lib/python3.7/dist-packages (2.5.1)\n",
            "Requirement already satisfied: jinja2>=2.7 in /usr/local/lib/python3.7/dist-packages (from brian2) (2.11.3)\n",
            "Requirement already satisfied: sympy>=1.2 in /usr/local/lib/python3.7/dist-packages (from brian2) (1.7.1)\n",
            "Requirement already satisfied: numpy>=1.17 in /usr/local/lib/python3.7/dist-packages (from brian2) (1.21.6)\n",
            "Requirement already satisfied: pyparsing in /usr/local/lib/python3.7/dist-packages (from brian2) (3.0.9)\n",
            "Requirement already satisfied: cython>=0.29 in /usr/local/lib/python3.7/dist-packages (from brian2) (0.29.32)\n",
            "Requirement already satisfied: setuptools>=24.2 in /usr/local/lib/python3.7/dist-packages (from brian2) (57.4.0)\n",
            "Requirement already satisfied: MarkupSafe>=0.23 in /usr/local/lib/python3.7/dist-packages (from jinja2>=2.7->brian2) (2.0.1)\n",
            "Requirement already satisfied: mpmath>=0.19 in /usr/local/lib/python3.7/dist-packages (from sympy>=1.2->brian2) (1.2.1)\n"
          ]
        }
      ]
    },
    {
      "cell_type": "code",
      "source": [
        "from brian2 import *\n",
        "\n",
        "#Setting Neuron Types and Current\n",
        "neuron_type = 'type2'    #Current types: type1c, type1t, type12, type21, type2, type2o\n",
        "Ipulse = 250*pA           #Choose Current Amplitude"
      ],
      "metadata": {
        "id": "NIVfACuPX5Hp"
      },
      "execution_count": 2,
      "outputs": []
    },
    {
      "cell_type": "code",
      "source": [
        "C = 12*pF\n",
        "eh = -43*mV\n",
        "ek = -77*mV  \n",
        "el = -65*mV\n",
        "ena = 55*mV \n",
        "nf = 0.85  #proportion of n vs p kinetics\n",
        "zss = 0.5  #steady state inactivation of glt\n",
        "temp = 22.  #temperature in degree celcius\n",
        "q10 = 3. ** ((temp - 22) / 10.)\n",
        "frac = 0.0\n",
        "qt = 4.5 ** ((temp - 33.) / 10.)"
      ],
      "metadata": {
        "id": "xwPgZmbxX53h"
      },
      "execution_count": 3,
      "outputs": []
    },
    {
      "cell_type": "code",
      "source": [
        "# Maximal conductances of different cell types in nS\n",
        "maximal_conductances = dict(\n",
        "type1c=(1000, 150, 0, 0, 0.5, 0, 2),\n",
        "type1t=(1000, 80, 0, 65, 0.5, 0, 2),\n",
        "type12=(1000, 150, 20, 0, 2, 0, 2),\n",
        "type21=(1000, 150, 35, 0, 3.5, 0, 2),\n",
        "type2=(1000, 150, 200, 0, 20, 0, 2),\n",
        ")\n",
        "gnabar, gkhtbar, gkltbar, gkabar, ghbar, gbarno, gl = [x * nS for x in maximal_conductances[neuron_type]]"
      ],
      "metadata": {
        "id": "oU3V7WK1X-sg"
      },
      "execution_count": 4,
      "outputs": []
    },
    {
      "cell_type": "code",
      "source": [
        "# Classical Na channel\n",
        "eqs_na = \"\"\"\n",
        "ina = gnabar*m**3*h*(ena-v) : amp\n",
        "dm/dt=q10*(minf-m)/mtau : 1\n",
        "dh/dt=q10*(hinf-h)/htau : 1 \n",
        "minf = 1./(1+exp(-(vu + 38.) / 7.)) : 1\n",
        "hinf = 1./(1+exp((vu + 65.) / 6.)) : 1\n",
        "mtau =  ((10. / (5*exp((vu+60.) / 18.) + 36.*exp(-(vu+60.) / 25.))) + 0.04)*ms : second\n",
        "htau =  ((100. / (7*exp((vu+60.) / 11.) + 10.*exp(-(vu+60.) / 25.))) + 0.6)*ms : second\n",
        "\"\"\"\n",
        "\n",
        "# KHT channel (delayed-rectifier K+)\n",
        "eqs_kht = \"\"\"\n",
        "ikht = gkhtbar*(nf*n**2 + (1-nf)*p)*(ek-v) : amp\n",
        "dn/dt=q10*(ninf-n)/ntau : 1\n",
        "dp/dt=q10*(pinf-p)/ptau : 1\n",
        "ninf =   (1 + exp(-(vu + 15) / 5.))**-0.5 : 1\n",
        "pinf =  1. / (1 + exp(-(vu + 23) / 6.)) : 1\n",
        "ntau =  ((100. / (11*exp((vu+60) / 24.) + 21*exp(-(vu+60) / 23.))) + 0.7)*ms : second\n",
        "ptau = ((100. / (4*exp((vu+60) / 32.) + 5*exp(-(vu+60) / 22.))) + 5)*ms : second\n",
        "\"\"\"\n",
        "\n",
        "# Ih channel (subthreshold adaptive, non-inactivating)\n",
        "eqs_ih = \"\"\"\n",
        "ih = ghbar*r*(eh-v) : amp\n",
        "dr/dt=q10*(rinf-r)/rtau : 1\n",
        "rinf = 1. / (1+exp((vu + 76.) / 7.)) : 1\n",
        "rtau = ((100000. / (237.*exp((vu+60.) / 12.) + 17.*exp(-(vu+60.) / 14.))) + 25.)*ms : second\n",
        "\"\"\"\n",
        "\n",
        "# KLT channel (low threshold K+)\n",
        "eqs_klt = \"\"\"\n",
        "iklt = gkltbar*w**4*z*(ek-v) : amp\n",
        "dw/dt=q10*(winf-w)/wtau : 1\n",
        "dz/dt=q10*(zinf-z)/ztau : 1\n",
        "winf = (1. / (1 + exp(-(vu + 48.) / 6.)))**0.25 : 1\n",
        "zinf = zss + ((1.-zss) / (1 + exp((vu + 71.) / 10.))) : 1\n",
        "wtau = ((100. / (6.*exp((vu+60.) / 6.) + 16.*exp(-(vu+60.) / 45.))) + 1.5)*ms : second\n",
        "ztau = ((1000. / (exp((vu+60.) / 20.) + exp(-(vu+60.) / 8.))) + 50)*ms : second\n",
        "\"\"\"\n",
        "\n",
        "# Ka channel (transient K+)\n",
        "eqs_ka = \"\"\"\n",
        "ika = gkabar*a**4*b*c*(ek-v): amp\n",
        "da/dt=q10*(ainf-a)/atau : 1\n",
        "db/dt=q10*(binf-b)/btau : 1\n",
        "dc/dt=q10*(cinf-c)/ctau : 1\n",
        "ainf = (1. / (1 + exp(-(vu + 31) / 6.)))**0.25 : 1\n",
        "binf = 1. / (1 + exp((vu + 66) / 7.))**0.5 : 1\n",
        "cinf = 1. / (1 + exp((vu + 66) / 7.))**0.5 : 1\n",
        "atau =  ((100. / (7*exp((vu+60) / 14.) + 29*exp(-(vu+60) / 24.))) + 0.1)*ms : second\n",
        "btau =  ((1000. / (14*exp((vu+60) / 27.) + 29*exp(-(vu+60) / 24.))) + 1)*ms : second\n",
        "ctau = ((90. / (1 + exp((-66-vu) / 17.))) + 10)*ms : second\n",
        "\"\"\"\n",
        "\n",
        "# Leak\n",
        "eqs_leak = \"\"\"\n",
        "ileak = gl*(el-v) : amp\n",
        "\"\"\"\n",
        "\n",
        "eqs_hcno = \"\"\"\n",
        "ihcno = gbarno*(h1*frac + h2*(1-frac))*(eh-v) : amp\n",
        "dh1/dt=(hinfno-h1)/tau1 : 1\n",
        "dh2/dt=(hinfno-h2)/tau2 : 1\n",
        "hinfno = 1./(1+exp((vu+66.)/7.)) : 1\n",
        "tau1 = bet1/(qt*0.008*(1+alp1))*ms : second\n",
        "tau2 = bet2/(qt*0.0029*(1+alp2))*ms : second\n",
        "alp1 = exp(1e-3*3*(vu+50)*9.648e4/(8.315*(273.16+temp))) : 1\n",
        "bet1 = exp(1e-3*3*0.3*(vu+50)*9.648e4/(8.315*(273.16+temp))) : 1\n",
        "alp2 = exp(1e-3*3*(vu+84)*9.648e4/(8.315*(273.16+temp))) : 1\n",
        "bet2 = exp(1e-3*3*0.6*(vu+84)*9.648e4/(8.315*(273.16+temp))) : 1\n",
        "\"\"\""
      ],
      "metadata": {
        "id": "ZIwjV4VnYBwq"
      },
      "execution_count": 5,
      "outputs": []
    },
    {
      "cell_type": "code",
      "source": [
        "eqs = \"\"\"\n",
        "dv/dt = (ileak + ina + ikht + iklt + ika + ih + ihcno + I)/C : volt\n",
        "vu = v/mV : 1  # unitless v\n",
        "I : amp\n",
        "\"\"\"\n",
        "eqs += eqs_leak + eqs_ka + eqs_na + eqs_ih + eqs_klt + eqs_kht + eqs_hcno\n",
        "\n",
        "neuron = NeuronGroup(1, eqs, method='exponential_euler')\n",
        "neuron.v = el"
      ],
      "metadata": {
        "id": "9A63nF3OYHZA"
      },
      "execution_count": 6,
      "outputs": []
    },
    {
      "cell_type": "code",
      "source": [
        "run(50*ms, report='text')  # Go to rest\n",
        "\n",
        "M = StateMonitor(neuron, 'v', record=0)\n",
        "neuron.I = Ipulse\n",
        "\n",
        "run(100*ms, report='text')\n",
        "\n",
        "plot(M.t / ms, M[0].v / mV)\n",
        "xlabel('t (ms)')\n",
        "ylabel('v (mV)')\n",
        "show()"
      ],
      "metadata": {
        "colab": {
          "base_uri": "https://localhost:8080/",
          "height": 353
        },
        "id": "gMga2kWbYKEU",
        "outputId": "3a0b22b9-c27a-4a5f-812f-208af21fdabe"
      },
      "execution_count": 7,
      "outputs": [
        {
          "output_type": "stream",
          "name": "stdout",
          "text": [
            "Starting simulation at t=0. s for a duration of 50. ms\n",
            "50. ms (100%) simulated in < 1s\n",
            "Starting simulation at t=50. ms for a duration of 100. ms\n",
            "100. ms (100%) simulated in < 1s\n"
          ]
        },
        {
          "output_type": "display_data",
          "data": {
            "text/plain": [
              "<Figure size 432x288 with 1 Axes>"
            ],
            "image/png": "[encoded data removed]"
          },
          "metadata": {
            "needs_background": "light"
          }
        }
      ]
    },
    {
      "cell_type": "code",
      "source": [
        " "
      ],
      "metadata": {
        "id": "jXXQfnUdajIW"
      },
      "execution_count": 7,
      "outputs": []
    }
  ]
}